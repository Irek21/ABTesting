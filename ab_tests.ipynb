{
 "cells": [
  {
   "cell_type": "code",
   "execution_count": 1,
   "id": "84bed375",
   "metadata": {},
   "outputs": [],
   "source": [
    "import numpy as np\n",
    "import pandas as pd\n",
    "import statsmodels.api as sm\n",
    "from scipy import stats\n",
    "\n",
    "import matplotlib.pyplot as plt\n",
    "import seaborn as sns"
   ]
  },
  {
   "cell_type": "markdown",
   "id": "220faf13",
   "metadata": {},
   "source": [
    "# Normal samples"
   ]
  },
  {
   "cell_type": "markdown",
   "id": "221541d7",
   "metadata": {},
   "source": [
    "<font size=5>\n",
    "    T-test with unequal vars. <br>\n",
    "    $H_0: \\mu_1 = \\mu_2$ <br>\n",
    "    $H_1: \\mu_1 \\ne \\mu_2 (<>) $\n",
    "</font>"
   ]
  },
  {
   "cell_type": "code",
   "execution_count": 2,
   "id": "a4af2cef",
   "metadata": {},
   "outputs": [],
   "source": [
    "# generate 2 samples\n",
    "n1 = 100\n",
    "mu1 = 5\n",
    "sigma1 = 4\n",
    "X1 = np.random.randn(n1) * sigma1 + mu1\n",
    "\n",
    "n2 = 80\n",
    "mu2 = 3.5\n",
    "sigma2 = 3\n",
    "X2 = np.random.randn(n2) * sigma2 + mu2"
   ]
  },
  {
   "cell_type": "code",
   "execution_count": 3,
   "id": "a6bda004",
   "metadata": {},
   "outputs": [
    {
     "data": {
      "text/plain": [
       "Ttest_indResult(statistic=2.3950972562278445, pvalue=0.01765363255935624)"
      ]
     },
     "execution_count": 3,
     "metadata": {},
     "output_type": "execute_result"
    }
   ],
   "source": [
    "stats.ttest_ind(X1, X2)"
   ]
  },
  {
   "cell_type": "markdown",
   "id": "36ac066a",
   "metadata": {},
   "source": [
    "# Binomial samples"
   ]
  },
  {
   "cell_type": "markdown",
   "id": "4188e44b",
   "metadata": {},
   "source": [
    "<font size=5>\n",
    "    Z-test. <br>\n",
    "    $H_0: p_1 = p_2$ <br>\n",
    "    $H_1: p_1 \\ne p_2 (<>) $\n",
    "</font>"
   ]
  },
  {
   "cell_type": "code",
   "execution_count": 4,
   "id": "92bf47a4",
   "metadata": {},
   "outputs": [],
   "source": [
    "# generate obs. data\n",
    "n2 = 502\n",
    "n1 = 480\n",
    "\n",
    "k2 = 30\n",
    "k1 = 14"
   ]
  },
  {
   "cell_type": "code",
   "execution_count": 5,
   "id": "479240d5",
   "metadata": {},
   "outputs": [
    {
     "name": "stdout",
     "output_type": "stream",
     "text": [
      "Z-statistic and p-value:\n",
      " -2.3165455053868 0.010264251422305417\n"
     ]
    }
   ],
   "source": [
    "from statsmodels.stats.proportion import proportions_ztest\n",
    "count = np.array([k1, k2])\n",
    "nobs = np.array([n1, n2])\n",
    "stat, pval = proportions_ztest(count, nobs, alternative='smaller')\n",
    "\n",
    "print(f'Z-statistic and p-value:\\n {stat} {pval}')"
   ]
  },
  {
   "cell_type": "markdown",
   "id": "58735f0b",
   "metadata": {},
   "source": [
    "<font size=5>\n",
    "    Fisher exact test. <br>\n",
    "    $H_0: p_1 = p_2$ <br>\n",
    "    $H_1: p_1 \\ne p_2 (<>) $\n",
    "</font>"
   ]
  },
  {
   "cell_type": "code",
   "execution_count": 6,
   "id": "00551b04",
   "metadata": {},
   "outputs": [
    {
     "name": "stdout",
     "output_type": "stream",
     "text": [
      "p-value: 0.014608660006249507\n"
     ]
    }
   ],
   "source": [
    "table = [[     k1,      k2],\n",
    "         [n1 - k1, n2 - k2]]\n",
    "\n",
    "table = np.array(table)\n",
    "\n",
    "stat, pval = stats.fisher_exact(table, alternative='less')\n",
    "print(f'p-value: {pval}')"
   ]
  },
  {
   "cell_type": "markdown",
   "id": "db9bae02",
   "metadata": {},
   "source": [
    "# Poisson samples"
   ]
  },
  {
   "cell_type": "code",
   "execution_count": 7,
   "id": "f176c259",
   "metadata": {},
   "outputs": [],
   "source": [
    "# generate obs. data\n",
    "n1 = 100\n",
    "n2 = 80\n",
    "lam1 = 3\n",
    "lam2 = 2\n",
    "\n",
    "\n",
    "X1 = np.random.poisson(lam1, n1)\n",
    "X2 = np.random.poisson(lam2, n2)\n",
    "\n",
    "k1 = X1.sum()\n",
    "k2 = X2.sum()"
   ]
  },
  {
   "cell_type": "code",
   "execution_count": 8,
   "id": "4c9509ca",
   "metadata": {},
   "outputs": [
    {
     "data": {
      "text/plain": [
       "<AxesSubplot:ylabel='Count'>"
      ]
     },
     "execution_count": 8,
     "metadata": {},
     "output_type": "execute_result"
    },
    {
     "data": {
      "image/png": "[encoded data removed]",
      "text/plain": [
       "<Figure size 432x288 with 1 Axes>"
      ]
     },
     "metadata": {
      "needs_background": "light"
     },
     "output_type": "display_data"
    }
   ],
   "source": [
    "sns.histplot(X1)"
   ]
  },
  {
   "cell_type": "markdown",
   "id": "7b581873",
   "metadata": {},
   "source": [
    "<font size=5>\n",
    "    C-test. <br>\n",
    "    $H_0: \\lambda_1=\\lambda_2$ <br>\n",
    "    $H_1: \\lambda_1 \\ne \\lambda_2 (<>)$\n",
    "</font>"
   ]
  },
  {
   "cell_type": "code",
   "execution_count": 9,
   "id": "21ee963e",
   "metadata": {},
   "outputs": [
    {
     "name": "stdout",
     "output_type": "stream",
     "text": [
      "Binomial parameter p = 0.5555555555555556\n"
     ]
    }
   ],
   "source": [
    "p = (n1 / n2) / (1 + (n1 / n2))\n",
    "print(f'Binomial parameter p = {p}')"
   ]
  },
  {
   "cell_type": "code",
   "execution_count": 10,
   "id": "60a36ff5",
   "metadata": {},
   "outputs": [
    {
     "name": "stdout",
     "output_type": "stream",
     "text": [
      "One-tailed p-value: 7.095292289435953e-08\n"
     ]
    }
   ],
   "source": [
    "from scipy.special import binom\n",
    "k = k1 + k2\n",
    "\n",
    "p_val = 0\n",
    "for i in range(k1, k + 1):\n",
    "    p_val += binom(k, i) * p ** i *(1 - p) ** (k - i)\n",
    "print(f'One-tailed p-value: {p_val}')"
   ]
  },
  {
   "cell_type": "code",
   "execution_count": 11,
   "id": "edaa344e",
   "metadata": {},
   "outputs": [
    {
     "name": "stdout",
     "output_type": "stream",
     "text": [
      "Two-tailed p-value: 1.4190584574080845e-07\n"
     ]
    }
   ],
   "source": [
    "right = 1- stats.binom.cdf(k1 - 1, k, p)\n",
    "left = stats.binom.cdf(k1, k, p)\n",
    "print(f'Two-tailed p-value: {2 * min(right, left)}')"
   ]
  },
  {
   "cell_type": "markdown",
   "id": "9086aae6",
   "metadata": {},
   "source": [
    "<font size=5>\n",
    "    E-test. <br>\n",
    "    $H_0: \\lambda_1=\\lambda_2$ <br>\n",
    "    $H_1: \\lambda_1 \\ne \\lambda_2 (<>)$\n",
    "</font>"
   ]
  },
  {
   "cell_type": "code",
   "execution_count": 12,
   "id": "5404166e",
   "metadata": {},
   "outputs": [
    {
     "name": "stdout",
     "output_type": "stream",
     "text": [
      "One-tailed p-value: 4.8282507517080654e-08\n",
      "Two-tailed p-value: 6.253043616680257e-08\n"
     ]
    }
   ],
   "source": [
    "from poisson_etest import poisson_etest\n",
    "\n",
    "p_val = poisson_etest(k1, k2, n1, n2, 'greater')\n",
    "print(f'One-tailed p-value: {p_val}')\n",
    "\n",
    "p_val = poisson_etest(k1, k2, n1, n2, 'twosided')\n",
    "print(f'Two-tailed p-value: {p_val}')"
   ]
  },
  {
   "cell_type": "markdown",
   "id": "c9f9855b",
   "metadata": {},
   "source": [
    "# Multinomial samples"
   ]
  },
  {
   "cell_type": "markdown",
   "id": "192cacd7",
   "metadata": {},
   "source": [
    "<font size=5>\n",
    "    $\\chi^2$ test. <br>\n",
    "    $H_0: distr_1 = distr_2$ <br>\n",
    "    $H_1: distr_1 \\ne distr_2 $\n",
    "</font>"
   ]
  },
  {
   "cell_type": "code",
   "execution_count": 13,
   "id": "26e57ebc",
   "metadata": {},
   "outputs": [],
   "source": [
    "# generate obs. data\n",
    "mu = np.array([33, 43, 80, 144])\n",
    "nu = np.array([39, 35, 72, 154])\n",
    "r = len(mu)\n",
    "\n",
    "n1 = mu.sum()\n",
    "n2 = nu.sum()"
   ]
  },
  {
   "cell_type": "code",
   "execution_count": 14,
   "id": "95442007",
   "metadata": {},
   "outputs": [
    {
     "name": "stdout",
     "output_type": "stream",
     "text": [
      "Chi2 stat and p-value:\n",
      " 2.077135921890426 0.5565521530460766\n"
     ]
    }
   ],
   "source": [
    "chi2 = n1 * n2 * sum([(mu[i] / n1 - nu[i] / n2) ** 2 / (mu[i] + nu[i])\n",
    "                      for i in range(len(mu))])\n",
    "\n",
    "p_val = 1- stats.chi2.cdf(chi2, df=r - 1)\n",
    "\n",
    "print(f'Chi2 stat and p-value:\\n {chi2} {p_val}')"
   ]
  },
  {
   "cell_type": "markdown",
   "id": "f857b8f2",
   "metadata": {},
   "source": [
    "# Mann-Whitney U-test"
   ]
  },
  {
   "cell_type": "markdown",
   "id": "34228db8",
   "metadata": {},
   "source": [
    "<font size=5>\n",
    "    We have two distributions of the unknown type. (Independent rand. variables).\n",
    "</font>"
   ]
  },
  {
   "cell_type": "code",
   "execution_count": 51,
   "id": "b45212c7",
   "metadata": {},
   "outputs": [],
   "source": [
    "# generate obs. data\n",
    "n1 = 25\n",
    "n2 = 30\n",
    "X1 = np.random.randn(n1) + 3\n",
    "X2 = np.random.randn(n2) + 4"
   ]
  },
  {
   "cell_type": "markdown",
   "id": "de4668b5",
   "metadata": {},
   "source": [
    "<font size=5> \n",
    "    $H_0: \\mu_1 = \\mu_2$ <br>\n",
    "    $H_1: \\mu_1 \\ne \\mu_2 (<>)$\n",
    "</font>"
   ]
  },
  {
   "cell_type": "code",
   "execution_count": 52,
   "id": "6489c3eb",
   "metadata": {},
   "outputs": [
    {
     "data": {
      "text/plain": [
       "MannwhitneyuResult(statistic=293.0, pvalue=0.08416318879591356)"
      ]
     },
     "execution_count": 52,
     "metadata": {},
     "output_type": "execute_result"
    }
   ],
   "source": [
    "stats.mannwhitneyu(X1, X2, alternative='less')"
   ]
  },
  {
   "cell_type": "markdown",
   "id": "7277b0ac",
   "metadata": {},
   "source": [
    "# Bayesian AB tests (binomial samples)"
   ]
  },
  {
   "cell_type": "code",
   "execution_count": 20,
   "id": "525d2f21",
   "metadata": {},
   "outputs": [],
   "source": [
    "# generate obs. data\n",
    "imps_ctrl, convs_ctrl = 16500, 30 \n",
    "imps_test, convs_test = 17000, 50"
   ]
  },
  {
   "cell_type": "code",
   "execution_count": 21,
   "id": "e4fedea7",
   "metadata": {},
   "outputs": [],
   "source": [
    "from scipy.stats import beta\n",
    "\n",
    "a_C, b_C = convs_ctrl + 1, imps_ctrl - convs_ctrl + 1\n",
    "beta_C = beta(a_C, b_C)\n",
    "a_T, b_T = convs_test + 1, imps_test - convs_test + 1\n",
    "beta_T = beta(a_T, b_T)"
   ]
  },
  {
   "cell_type": "code",
   "execution_count": 24,
   "id": "09b2aaf1",
   "metadata": {},
   "outputs": [
    {
     "data": {
      "image/png": "[encoded data removed]",
      "text/plain": [
       "<Figure size 432x288 with 1 Axes>"
      ]
     },
     "metadata": {
      "needs_background": "light"
     },
     "output_type": "display_data"
    }
   ],
   "source": [
    "def calc_beta_mode(a, b):\n",
    "    return (a - 1) / (a + b - 2)\n",
    "\n",
    "def plot(betas, names, linf=0, lsup=0.01):\n",
    "    x = np.linspace(linf, lsup, 100)\n",
    "    for f, name in zip(betas, names):\n",
    "        y = f.pdf(x)\n",
    "        y_mode = calc_beta_mode(f.args[0], f.args[1])\n",
    "        y_var = f.var()\n",
    "        plt.plot(x, y, label=f\"{name} sample, conversion rate: {y_mode:.6f}\")\n",
    "        plt.yticks([])\n",
    "    plt.legend()\n",
    "    plt.show()\n",
    "\n",
    "plot([beta_C, beta_T], names=[\"Control\", \"Test\"])"
   ]
  },
  {
   "cell_type": "markdown",
   "id": "6b752948",
   "metadata": {},
   "source": [
    "<font size=4>\n",
    "    Plot joint distribution for control and test conversions.\n",
    "</font>"
   ]
  },
  {
   "cell_type": "code",
   "execution_count": 26,
   "id": "c94526e3",
   "metadata": {},
   "outputs": [
    {
     "data": {
      "text/plain": [
       "[<matplotlib.lines.Line2D at 0x7f3c084b6b80>]"
      ]
     },
     "execution_count": 26,
     "metadata": {},
     "output_type": "execute_result"
    },
    {
     "data": {
      "image/png": "[encoded data removed]",
      "text/plain": [
       "<Figure size 432x432 with 3 Axes>"
      ]
     },
     "metadata": {
      "needs_background": "light"
     },
     "output_type": "display_data"
    }
   ],
   "source": [
    "val_C = np.random.beta(a_C, b_C, 10000)\n",
    "val_T = np.random.beta(a_T, b_T, 10000)\n",
    "vals = np.vstack([val_C, val_T]).T\n",
    "\n",
    "limit = 0.004\n",
    "\n",
    "df = pd.DataFrame(vals, columns=['Control', 'Test'])\n",
    "df = df[df['Control'] < limit]\n",
    "df = df[df['Test'] < limit]\n",
    "\n",
    "g = sns.jointplot(x=df.Control, y=df.Test, kind='kde', n_levels=15)\n",
    "g.ax_joint.plot([0.0015, limit], [0.0015, limit])"
   ]
  },
  {
   "cell_type": "code",
   "execution_count": 29,
   "id": "06dcd362",
   "metadata": {},
   "outputs": [
    {
     "name": "stdout",
     "output_type": "stream",
     "text": [
      "Probability of one-sided inequality: 0.9821319709016084\n"
     ]
    }
   ],
   "source": [
    "from calc_prob import calc_prob_between\n",
    "\n",
    "prob = calc_prob_between(beta_T, beta_C)\n",
    "print(f'Probability of one-sided inequality: {prob}')"
   ]
  },
  {
   "cell_type": "code",
   "execution_count": null,
   "id": "c4400642",
   "metadata": {},
   "outputs": [],
   "source": []
  }
 ],
 "metadata": {
  "kernelspec": {
   "display_name": "Python 3 (ipykernel)",
   "language": "python",
   "name": "python3"
  },
  "language_info": {
   "codemirror_mode": {
    "name": "ipython",
    "version": 3
   },
   "file_extension": ".py",
   "mimetype": "text/x-python",
   "name": "python",
   "nbconvert_exporter": "python",
   "pygments_lexer": "ipython3",
   "version": "3.8.10"
  }
 },
 "nbformat": 4,
 "nbformat_minor": 5
}
